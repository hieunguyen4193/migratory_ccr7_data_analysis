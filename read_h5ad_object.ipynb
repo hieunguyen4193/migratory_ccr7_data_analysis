{
 "cells": [
  {
   "cell_type": "code",
   "execution_count": 1,
   "metadata": {},
   "outputs": [],
   "source": [
    "import scanpy as sc\n",
    "import os\n",
    "\n",
    "maindir = \"/media/hieunguyen/HNSD01/storage/FHager_datasets/gutcellatlas/gutcellatlas_myeloid\"\n",
    "path_to_h5ad = os.path.join(maindir, \"myeloid_raw_counts02_v2.h5ad\")\n",
    "\n",
    "adata = sc.read_h5ad(path_to_h5ad)\n",
    "\n",
    "adata.obs.to_csv(os.path.join(maindir, \"myeloid_raw_counts02_v2.metadata.csv\"))\n",
    "adata.T.to_df().to_csv(os.path.join(maindir, \"myeloid_raw_counts02_v2.count_matrix.csv\"))"
   ]
  }
 ],
 "metadata": {
  "kernelspec": {
   "display_name": "sc",
   "language": "python",
   "name": "python3"
  },
  "language_info": {
   "codemirror_mode": {
    "name": "ipython",
    "version": 3
   },
   "file_extension": ".py",
   "mimetype": "text/x-python",
   "name": "python",
   "nbconvert_exporter": "python",
   "pygments_lexer": "ipython3",
   "version": "3.9.18"
  }
 },
 "nbformat": 4,
 "nbformat_minor": 2
}
