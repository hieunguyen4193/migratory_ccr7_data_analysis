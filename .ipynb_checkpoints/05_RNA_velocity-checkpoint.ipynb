{
 "cells": [
  {
   "cell_type": "code",
   "execution_count": 5,
   "id": "8f5da255-8e96-4ea8-ac6e-02219d9562cd",
   "metadata": {},
   "outputs": [
    {
     "name": "stdout",
     "output_type": "stream",
     "text": [
      "The rpy2.ipython extension is already loaded. To reload it, use:\n",
      "  %reload_ext rpy2.ipython\n"
     ]
    },
    {
     "data": {
      "text/plain": [
       "0"
      ]
     },
     "execution_count": 5,
     "metadata": {},
     "output_type": "execute_result"
    }
   ],
   "source": [
    "import scanpy as sc\n",
    "import numpy as np\n",
    "import os\n",
    "import anndata2ri\n",
    "import pathlib\n",
    "import scvelo as scv\n",
    "from scipy import io\n",
    "import anndata#\n",
    "import pandas as pd\n",
    "from tqdm import tqdm\n",
    "import argparse\n",
    "import sys\n",
    "\n",
    "# Activate the anndata2ri conversion between SingleCellExperiment and AnnData\n",
    "anndata2ri.activate()\n",
    "\n",
    "#Loading the rpy2 extension enables cell magic to be used\n",
    "#This runs R code in jupyter notebook cells\n",
    "%load_ext rpy2.ipython\n",
    "\n",
    "sc.settings.verbosity = 3\n",
    "# sc.logging.print_versions()\n",
    "\n",
    "import warnings\n",
    "warnings.filterwarnings(\"ignore\")\n",
    "\n",
    "\n",
    "outdir = \"/media/hieunguyen/HNSD01/outdir\"\n",
    "orig_dataset = \"GSM5764245\"\n",
    "config_version = \"v0.1\"\n",
    "output_version = \"20240806\"\n",
    "PROJECT = \"FHager_datasets\"\n",
    "\n",
    "all_datasets = [\"220907_FH\",\n",
    "                \"GSM5764259\",\n",
    "                \"230228_FH\",\n",
    "                \"GSM5764288\",            \n",
    "                \"GSM5764245\",\n",
    "                \"integrate_GSE192742_LIVER\",\n",
    "                \"gutcellatlas_myeloid\"]\n",
    "\n",
    "loom_dir = \"/media/hieunguyen/HNSD01/storage/FHager_datasets/velocyto_output\"\n",
    "\n",
    "dataset_name = \"{}_{}\".format(orig_dataset, config_version)\n",
    "\n",
    "path_to_main_input = os.path.join(outdir,\n",
    "                                PROJECT,\n",
    "                                output_version, \n",
    "                                dataset_name, \n",
    "                                \"s8a_output\",\n",
    "                                \"{}.output.s8a.rds\".format(dataset_name))\n",
    "\n",
    "path_to_seurat2anndata = os.path.join(outdir, PROJECT, output_version, \"seurat2anndata\", dataset_name)\n",
    "path_to_main_output = os.path.join(outdir, PROJECT, output_version, dataset_name)\n",
    "path_to_05_output = os.path.join(path_to_main_output, \"05_output\")\n",
    "os.system(\"mkdir -p {}\".format(path_to_05_output))\n",
    "\n",
    "\n",
    "adata = sc.read_h5ad(os.path.join(path_to_seurat2anndata, '{}.h5ad'.format(dataset_name)))\n",
    "loom_data = scv.read_loom(os.path.join(loom_dir, ))"
   ]
  },
  {
   "cell_type": "code",
   "execution_count": null,
   "id": "82eb3995-a728-484a-a3e1-1f23855bf05a",
   "metadata": {},
   "outputs": [],
   "source": []
  }
 ],
 "metadata": {
  "kernelspec": {
   "display_name": "Python 3 (ipykernel)",
   "language": "python",
   "name": "python3"
  },
  "language_info": {
   "codemirror_mode": {
    "name": "ipython",
    "version": 3
   },
   "file_extension": ".py",
   "mimetype": "text/x-python",
   "name": "python",
   "nbconvert_exporter": "python",
   "pygments_lexer": "ipython3",
   "version": "3.8.0"
  }
 },
 "nbformat": 4,
 "nbformat_minor": 5
}
