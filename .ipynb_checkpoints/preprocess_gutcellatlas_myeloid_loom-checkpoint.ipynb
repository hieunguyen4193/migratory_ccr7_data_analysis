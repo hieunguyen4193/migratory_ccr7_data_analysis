{
 "cells": [
  {
   "cell_type": "code",
   "execution_count": 1,
   "id": "018f782d-d72a-45d1-870e-16cfcb661264",
   "metadata": {},
   "outputs": [],
   "source": [
    "import scanpy as sc\n",
    "import numpy as np\n",
    "import os\n",
    "import anndata2ri\n",
    "import pathlib\n",
    "import scvelo as scv\n",
    "from scipy import io\n",
    "import anndata#\n",
    "import pandas as pd\n",
    "from tqdm import tqdm\n",
    "import argparse\n",
    "import sys\n",
    "\n",
    "# Activate the anndata2ri conversion between SingleCellExperiment and AnnData\n",
    "anndata2ri.activate()\n",
    "\n",
    "#Loading the rpy2 extension enables cell magic to be used\n",
    "#This runs R code in jupyter notebook cells\n",
    "%load_ext rpy2.ipython\n",
    "\n",
    "sc.settings.verbosity = 3\n",
    "# sc.logging.print_versions()\n",
    "\n",
    "import warnings\n",
    "warnings.filterwarnings(\"ignore\")\n",
    "\n",
    "\n",
    "outdir = \"/media/hieunguyen/HNSD01/outdir\"\n",
    "orig_dataset = \"gutcellatlas_myeloid\"\n",
    "\n",
    "ssconfig_version = \"v0.1\"\n",
    "output_version = \"20240806\"\n",
    "PROJECT = \"FHager_datasets\"\n",
    "\n",
    "all_datasets = [\"220907_FH\",\n",
    "                \"GSM5764259\",\n",
    "                \"230228_FH\",\n",
    "                \"GSM5764288\",            \n",
    "                \"GSM5764245\",\n",
    "                \"integrate_GSE192742_LIVER\",\n",
    "                \"gutcellatlas_myeloid\"]\n",
    "\n",
    "loom_dir = \"/media/hieunguyen/HNSD01/storage/FHager_datasets/velocyto_output\"\n",
    "\n",
    "dataset_name = \"{}_{}\".format(orig_dataset, config_version)\n",
    "\n",
    "path_to_main_input = os.path.join(outdir,\n",
    "                                PROJECT,\n",
    "                                output_version, \n",
    "                                dataset_name, \n",
    "                                \"s8a_output\",\n",
    "                                \"{}.output.s8a.rds\".format(dataset_name))\n",
    "\n",
    "path_to_seurat2anndata = os.path.join(outdir, PROJECT, output_version, \"seurat2anndata\", dataset_name)\n",
    "path_to_main_output = os.path.join(outdir, PROJECT, output_version, dataset_name)\n",
    "path_to_05_output = os.path.join(path_to_main_output, \"05_output\")\n",
    "os.system(\"mkdir -p {}\".format(path_to_05_output))\n",
    "\n",
    "\n",
    "loom_obj = scv.read_loom(os.path.join(loom_dir, \"gutcellatlas_myeloid.loom\"))"
   ]
  },
  {
   "cell_type": "code",
   "execution_count": 14,
   "id": "e5a7eec9-9600-46be-80ca-9bd2cd26d6e2",
   "metadata": {},
   "outputs": [],
   "source": [
    "adata = sc.read_h5ad(os.path.join(path_to_seurat2anndata, '{}.h5ad'.format(dataset_name)))"
   ]
  },
  {
   "cell_type": "code",
   "execution_count": 63,
   "id": "cb2946cc-f3e0-4ee0-8b33-c968d8b9f29f",
   "metadata": {},
   "outputs": [
    {
     "data": {
      "text/plain": [
       "Index(['AAGGAGCGTCTGATTG.1.4918STDY7333456',\n",
       "       'AAGGCAGCAGGTGGAT.1.4918STDY7333456',\n",
       "       'ACGAGGACAGCTCGAC.1.4918STDY7333456',\n",
       "       'ACGAGGACAGGCTGAA.1.4918STDY7333456',\n",
       "       'ACGGGTCAGCCTTGAT.1.4918STDY7333456',\n",
       "       'ATAACGCCAGGGATTG.1.4918STDY7333456',\n",
       "       'ATAAGAGTCCGCGGTA.1.4918STDY7333456',\n",
       "       'CACACCTGTTAGGGTG.1.4918STDY7333456',\n",
       "       'CATTATCCAATGTAAG.1.4918STDY7333456',\n",
       "       'CATTCGCGTCACTTCC.1.4918STDY7333456',\n",
       "       ...\n",
       "       'TCAATCTCACGTCAGC.1.WTDAtest7770718',\n",
       "       'TCACAAGTCCAGATCA.1.WTDAtest7770718',\n",
       "       'TCAGCTCTCGATAGAA.1.WTDAtest7770718',\n",
       "       'TCAGGTAAGTTCGCGC.1.WTDAtest7770718',\n",
       "       'TCCACACAGGCAAAGA.1.WTDAtest7770718',\n",
       "       'TGAAAGAAGTGCTGCC.1.WTDAtest7770718',\n",
       "       'TGTATTCAGTAAGTAC.1.WTDAtest7770718',\n",
       "       'TTCGAAGTCTTACCGC.1.WTDAtest7770718',\n",
       "       'TTCTACAAGCGCTCCA.1.WTDAtest7770718',\n",
       "       'TCAGCTCCATTCCTGC.1.WTDAtest7770719'],\n",
       "      dtype='object', name='barcode', length=6316)"
      ]
     },
     "execution_count": 63,
     "metadata": {},
     "output_type": "execute_result"
    }
   ],
   "source": [
    "adata.obs.index"
   ]
  },
  {
   "cell_type": "code",
   "execution_count": 94,
   "id": "7dcfef3a-e98b-4d0b-9b8a-b7b6cabb936b",
   "metadata": {},
   "outputs": [],
   "source": [
    "loom_obs = loom_obj.obs.index\n",
    "loom_obs = [item.replace(\"_GRCh38-3_0_0\", \"\") for item in loom_obs]\n",
    "loom_obs = [item.replace(\"cellranger302_count_\", \"\").replace(\"cellranger310_count_30328_\", \"\") for item in loom_obs]\n",
    "\n",
    "loom_obs = [item[6:] if (item[0].isnumeric() == True) and (item[5] == \"_\") else item for item in loom_obs]\n",
    "\n",
    "loom_obs = [\"{}.1.{}\".format(item.split(\":\")[1].replace(\"x\", \"\"), item.split(\":\")[0])\n",
    "           for item in loom_obs]\n",
    "\n",
    "loom_obj.obs.index = loom_obs\n",
    "\n",
    "subset_loom_obj = loom_obj[[item for item in adata.obs.index if item in loom_obs]].copy()"
   ]
  },
  {
   "cell_type": "code",
   "execution_count": 96,
   "id": "ffab4b1e-90b0-4b9a-8a55-ed0d1144b04a",
   "metadata": {},
   "outputs": [],
   "source": [
    "subset_loom_obj.write_loom(os.path.join(loom_dir, \"gutcellatlas_myeloid.loom\"))"
   ]
  }
 ],
 "metadata": {
  "kernelspec": {
   "display_name": "Python 3 (ipykernel)",
   "language": "python",
   "name": "python3"
  },
  "language_info": {
   "codemirror_mode": {
    "name": "ipython",
    "version": 3
   },
   "file_extension": ".py",
   "mimetype": "text/x-python",
   "name": "python",
   "nbconvert_exporter": "python",
   "pygments_lexer": "ipython3",
   "version": "3.8.0"
  }
 },
 "nbformat": 4,
 "nbformat_minor": 5
}
